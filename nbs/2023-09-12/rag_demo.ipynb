{
 "cells": [
  {
   "cell_type": "markdown",
   "metadata": {},
   "source": [
    "# Retrieval Augmented Generation Demo"
   ]
  },
  {
   "cell_type": "markdown",
   "metadata": {},
   "source": [
    "## Configuration to store websites, questions"
   ]
  },
  {
   "cell_type": "code",
   "execution_count": 1,
   "metadata": {},
   "outputs": [],
   "source": [
    "config = {\n",
    "    \"websites\": [\n",
    "        \"https://www.101cookbooks.com/panade/\",\n",
    "        \"https://www.101cookbooks.com/good-chana-masala-recipe/\",\n",
    "        \"https://www.101cookbooks.com/tofu-scramble/\",\n",
    "    ],\n",
    "    \"questions\": [\n",
    "        \"What are the top 5 ingredients in 'Chana Masala'?\",\n",
    "        \"How to make a delicious 'Tofu Scramble'?\",\n",
    "        \"Do you know how to make 'Paneer Tikka'?\",\n",
    "        \"I have these items in my bucket: 'broccoli florets', 'cabbage', 'cauliflower florets', 'zucchini'. What's the dish that I can prepare?\"\n",
    "    ],\n",
    "}"
   ]
  },
  {
   "cell_type": "markdown",
   "metadata": {},
   "source": [
    "## Load the data"
   ]
  },
  {
   "cell_type": "code",
   "execution_count": 2,
   "metadata": {},
   "outputs": [],
   "source": [
    "from langchain.document_loaders import WebBaseLoader"
   ]
  },
  {
   "cell_type": "code",
   "execution_count": 3,
   "metadata": {},
   "outputs": [],
   "source": [
    "loader = WebBaseLoader(config[\"websites\"])"
   ]
  },
  {
   "cell_type": "code",
   "execution_count": 4,
   "metadata": {},
   "outputs": [],
   "source": [
    "docs = loader.load()"
   ]
  },
  {
   "cell_type": "code",
   "execution_count": 5,
   "metadata": {},
   "outputs": [
    {
     "name": "stdout",
     "output_type": "stream",
     "text": [
      "3\n"
     ]
    }
   ],
   "source": [
    "print(len(docs))"
   ]
  },
  {
   "cell_type": "code",
   "execution_count": 6,
   "metadata": {},
   "outputs": [
    {
     "name": "stdout",
     "output_type": "stream",
     "text": [
      "{'source': 'https://www.101cookbooks.com/panade/', 'title': 'A Rustic Scallion & Chive Panade - 101 Cookbooks', 'description': 'If you love hearty stuffings, bread soups, or savory bread puddings, this beautiful panade is for you.', 'language': 'en-US'}\n"
     ]
    }
   ],
   "source": [
    "print(docs[0].metadata)"
   ]
  },
  {
   "cell_type": "markdown",
   "metadata": {},
   "source": [
    "## Prepare the data"
   ]
  },
  {
   "cell_type": "code",
   "execution_count": 7,
   "metadata": {},
   "outputs": [
    {
     "name": "stdout",
     "output_type": "stream",
     "text": [
      "66\n"
     ]
    }
   ],
   "source": [
    "from langchain.text_splitter import RecursiveCharacterTextSplitter\n",
    "\n",
    "def split_docs(documents, chunk_size=1000, chunk_overlap=10):\n",
    "    text_splitter = RecursiveCharacterTextSplitter(chunk_size=chunk_size, chunk_overlap=chunk_overlap)\n",
    "    docs = text_splitter.split_documents(documents)\n",
    "    return docs\n",
    "\n",
    "docs = split_docs(docs)\n",
    "print(len(docs))"
   ]
  },
  {
   "cell_type": "markdown",
   "metadata": {},
   "source": [
    "## Convert to embeddings"
   ]
  },
  {
   "cell_type": "code",
   "execution_count": 8,
   "metadata": {},
   "outputs": [
    {
     "name": "stderr",
     "output_type": "stream",
     "text": [
      "/opt/homebrew/Caskroom/miniforge/base/envs/rag-demo-env/lib/python3.8/site-packages/tqdm/auto.py:21: TqdmWarning: IProgress not found. Please update jupyter and ipywidgets. See https://ipywidgets.readthedocs.io/en/stable/user_install.html\n",
      "  from .autonotebook import tqdm as notebook_tqdm\n"
     ]
    }
   ],
   "source": [
    "from langchain.embeddings import SentenceTransformerEmbeddings\n",
    "embeddings = SentenceTransformerEmbeddings(model_name=\"all-MiniLM-L6-v2\")"
   ]
  },
  {
   "cell_type": "markdown",
   "metadata": {},
   "source": [
    "## Index the data (embeddings)"
   ]
  },
  {
   "cell_type": "code",
   "execution_count": 9,
   "metadata": {},
   "outputs": [],
   "source": [
    "from langchain.vectorstores import Chroma\n",
    "db = Chroma.from_documents(docs, embeddings)"
   ]
  },
  {
   "cell_type": "markdown",
   "metadata": {},
   "source": [
    "## LLM"
   ]
  },
  {
   "cell_type": "code",
   "execution_count": 11,
   "metadata": {},
   "outputs": [
    {
     "data": {
      "text/plain": [
       "True"
      ]
     },
     "execution_count": 11,
     "metadata": {},
     "output_type": "execute_result"
    }
   ],
   "source": [
    "from dotenv import load_dotenv\n",
    "\n",
    "load_dotenv(override=True)"
   ]
  },
  {
   "cell_type": "code",
   "execution_count": 12,
   "metadata": {},
   "outputs": [],
   "source": [
    "from langchain.chat_models import ChatOpenAI\n",
    "model_name = \"gpt-3.5-turbo\"\n",
    "llm = ChatOpenAI(model_name=model_name)"
   ]
  },
  {
   "cell_type": "markdown",
   "metadata": {},
   "source": [
    "## Retrieval chain"
   ]
  },
  {
   "cell_type": "code",
   "execution_count": 13,
   "metadata": {},
   "outputs": [],
   "source": [
    "from langchain.chains import RetrievalQA\n",
    "\n",
    "retrieval_chain = RetrievalQA.from_chain_type(llm, chain_type=\"stuff\", retriever=db.as_retriever())"
   ]
  },
  {
   "cell_type": "markdown",
   "metadata": {},
   "source": [
    "## Answer questions using chain"
   ]
  },
  {
   "cell_type": "code",
   "execution_count": 14,
   "metadata": {},
   "outputs": [
    {
     "name": "stdout",
     "output_type": "stream",
     "text": [
      "The top 5 ingredients in Chana Masala are cayenne, serrano, chana masala powder, tomatoes, and mango powder.\n",
      "---\n",
      "To make a delicious tofu scramble, here's a basic recipe you can follow:\n",
      "\n",
      "Ingredients:\n",
      "- 1 block of firm tofu\n",
      "- 1 tablespoon of olive oil\n",
      "- 1 small onion, diced\n",
      "- 2 cloves of garlic, minced\n",
      "- 1 teaspoon of curry powder\n",
      "- Salt and pepper to taste\n",
      "- 2 cups of spinach (or any other seasonal vegetables you prefer)\n",
      "- Optional toppings: nutritional yeast, hot sauce, avocado, salsa, etc.\n",
      "\n",
      "Instructions:\n",
      "1. Start by pressing the tofu to remove excess water. Wrap the tofu block in a clean kitchen towel or paper towels and place something heavy on top (like a plate or a book) for about 15-20 minutes.\n",
      "\n",
      "2. In the meantime, heat the olive oil in a large skillet over medium heat. Add the diced onion and minced garlic, and sauté until they become translucent and fragrant.\n",
      "\n",
      "3. Crumble the pressed tofu into the skillet with your hands or a fork. You can make the crumbles as large or small as you prefer.\n",
      "\n",
      "4. Sprinkle the curry powder over the tofu, and season with salt and pepper. Stir everything together to evenly distribute the spices.\n",
      "\n",
      "5. Add the spinach (or other vegetables) to the skillet and cook until they are wilted and heated through. This should only take a few minutes.\n",
      "\n",
      "6. Taste and adjust the seasoning if needed.\n",
      "\n",
      "7. Serve the tofu scramble hot with your favorite toppings. It goes well with toast, potatoes, or in a breakfast burrito.\n",
      "\n",
      "Remember, feel free to get creative and add other seasonings or ingredients to customize your tofu scramble to your taste. Enjoy!\n",
      "---\n",
      "I'm sorry, but I don't have the instructions for making Paneer Tikka.\n",
      "---\n",
      "Based on the items you have in your bucket, you can prepare a dish like a stir-fry with broccoli florets, cabbage, cauliflower florets, and zucchini. You can sauté these vegetables in a pan with some oil, garlic, and your choice of seasonings or sauce. It would make a delicious and healthy vegetable stir-fry.\n",
      "---\n"
     ]
    }
   ],
   "source": [
    "import time\n",
    "\n",
    "\n",
    "for q in config[\"questions\"]:\n",
    "    ans = retrieval_chain.run(q)\n",
    "    print(ans)\n",
    "    print(\"---\")\n",
    "    time.sleep(5)"
   ]
  },
  {
   "cell_type": "code",
   "execution_count": null,
   "metadata": {},
   "outputs": [],
   "source": []
  }
 ],
 "metadata": {
  "kernelspec": {
   "display_name": "rag-demo-env",
   "language": "python",
   "name": "python3"
  },
  "language_info": {
   "codemirror_mode": {
    "name": "ipython",
    "version": 3
   },
   "file_extension": ".py",
   "mimetype": "text/x-python",
   "name": "python",
   "nbconvert_exporter": "python",
   "pygments_lexer": "ipython3",
   "version": "3.8.18"
  },
  "orig_nbformat": 4
 },
 "nbformat": 4,
 "nbformat_minor": 2
}
